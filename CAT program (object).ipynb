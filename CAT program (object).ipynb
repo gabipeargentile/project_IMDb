{
 "cells": [
  {
   "cell_type": "code",
   "execution_count": 20,
   "metadata": {},
   "outputs": [],
   "source": [
    "import pandas as pd\n",
    "import seaborn as sns"
   ]
  },
  {
   "cell_type": "code",
   "execution_count": 32,
   "metadata": {},
   "outputs": [],
   "source": [
    "class CAT():\n",
    "    def __init__(self):\n",
    "        self.__industry = pd.read_csv('base_consolidada.csv', sep=';', header=0) # todos os filmes da indústria\n",
    "        self.__netflix = self.__industry[self.__industry['on_netflix'] == True] # todos os filmes do catálogo netflix\n",
    "        self.__other = self.__industry[self.__industry['on_netflix'] == False] # todos os filmes fora do catálogo netflix\n",
    "    \n",
    "    def netflix_catalog(self):\n",
    "        return self.__netflix.drop(columns=['on_netflix']) # retorna o catálogo netflix\n",
    "    \n",
    "    def industry_catalog(self): # retorna o catálogo da indústria como um todo\n",
    "        return self.__industry\n",
    "    \n",
    "    def other_catalog(self): # retorna só os filmes fora do catálogo netflix\n",
    "        return self.__other.drop(columns=['on_netflix'])\n",
    "    \n",
    "    \n",
    "    # Aí aqui programamos métodos que entreguem todos os stories que queremos!!!\n",
    "   \n",
    "#    def ranking(self, scope='industry', filter = 'genre', metric = 'avg_votes', house_content = False,\n",
    "#                subfilter = ['allgenders', 'allages'], limit = 100, visualize = False):\n",
    "        # scope deve estar em ['industry', 'netflix', 'other']\n",
    "        # filter deve estar em ['genre', 'year', 'country', 'language', 'director']\n",
    "        # metric deve estar em ['avg_votes' ou 'votes']\n",
    "        # subfilter deve estar entre [['allgenders', 'females', 'males'], ['0age', '18age', '30age', '45age']]\n",
    "        # house_content = True filtrará 'production_company' == 'Netflix'\n",
    "        # limit é discricionário do usuário\n",
    "        # visualize diz respeito ao retorno de gráficos com a análise, ao invés do DataFrame.."
   ]
  },
  {
   "cell_type": "code",
   "execution_count": 33,
   "metadata": {},
   "outputs": [],
   "source": [
    "program = CAT()"
   ]
  },
  {
   "cell_type": "code",
   "execution_count": null,
   "metadata": {},
   "outputs": [],
   "source": []
  }
 ],
 "metadata": {
  "kernelspec": {
   "display_name": "Python 3",
   "language": "python",
   "name": "python3"
  },
  "language_info": {
   "codemirror_mode": {
    "name": "ipython",
    "version": 3
   },
   "file_extension": ".py",
   "mimetype": "text/x-python",
   "name": "python",
   "nbconvert_exporter": "python",
   "pygments_lexer": "ipython3",
   "version": "3.7.1"
  }
 },
 "nbformat": 4,
 "nbformat_minor": 4
}